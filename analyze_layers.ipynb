{
 "cells": [
  {
   "cell_type": "code",
   "execution_count": 20,
   "metadata": {},
   "outputs": [
    {
     "name": "stdout",
     "output_type": "stream",
     "text": [
      "{'aeroplane': 0, 'bicycle': 1, 'bus': 2, 'car': 3, 'horse': 4, 'knife': 5, 'motorcycle': 6, 'person': 7, 'plant': 8, 'skateboard': 9, 'train': 10, 'truck': 11}\n",
      "{'aeroplane': 0, 'bicycle': 1, 'bus': 2, 'car': 3, 'horse': 4, 'knife': 5, 'motorcycle': 6, 'person': 7, 'plant': 8, 'skateboard': 9, 'train': 10, 'truck': 11}\n",
      "{'aeroplane': 0, 'bicycle': 1, 'bus': 2, 'car': 3, 'horse': 4, 'knife': 5, 'motorcycle': 6, 'person': 7, 'plant': 8, 'skateboard': 9, 'train': 10, 'truck': 11}\n"
     ]
    },
    {
     "name": "stderr",
     "output_type": "stream",
     "text": [
      "100%|██████████| 71/71 [00:30<00:00,  2.32it/s]\n"
     ]
    },
    {
     "name": "stdout",
     "output_type": "stream",
     "text": [
      "adaptive             - 70.02570054717295\n"
     ]
    },
    {
     "name": "stderr",
     "output_type": "stream",
     "text": [
      "100%|██████████| 71/71 [00:25<00:00,  2.82it/s]\n"
     ]
    },
    {
     "name": "stdout",
     "output_type": "stream",
     "text": [
      "[]                   - 31.188857569225668\n"
     ]
    },
    {
     "name": "stderr",
     "output_type": "stream",
     "text": [
      "100%|██████████| 71/71 [00:25<00:00,  2.82it/s]\n"
     ]
    },
    {
     "name": "stdout",
     "output_type": "stream",
     "text": [
      "[0, 1, 2, 3, 4, 5, 6, 7, 8, 9, 10, 11] - 70.58254573591996\n"
     ]
    },
    {
     "name": "stderr",
     "output_type": "stream",
     "text": [
      "100%|██████████| 71/71 [00:25<00:00,  2.82it/s]\n"
     ]
    },
    {
     "name": "stdout",
     "output_type": "stream",
     "text": [
      "[4, 8, 9, 10]        - 67.03559387608468\n"
     ]
    },
    {
     "name": "stderr",
     "output_type": "stream",
     "text": [
      "100%|██████████| 71/71 [00:25<00:00,  2.82it/s]\n"
     ]
    },
    {
     "name": "stdout",
     "output_type": "stream",
     "text": [
      "[4, 8, 10]           - 64.83999336760073\n"
     ]
    },
    {
     "name": "stderr",
     "output_type": "stream",
     "text": [
      "100%|██████████| 71/71 [00:25<00:00,  2.82it/s]\n"
     ]
    },
    {
     "name": "stdout",
     "output_type": "stream",
     "text": [
      "[8, 9, 10]           - 63.2537445420881\n"
     ]
    },
    {
     "name": "stderr",
     "output_type": "stream",
     "text": [
      "100%|██████████| 71/71 [00:25<00:00,  2.80it/s]\n"
     ]
    },
    {
     "name": "stdout",
     "output_type": "stream",
     "text": [
      "[10]                 - 46.00950643895429\n"
     ]
    },
    {
     "name": "stderr",
     "output_type": "stream",
     "text": [
      "100%|██████████| 71/71 [00:25<00:00,  2.80it/s]\n"
     ]
    },
    {
     "name": "stdout",
     "output_type": "stream",
     "text": [
      "[4]                  - 39.34947217155806\n"
     ]
    },
    {
     "name": "stderr",
     "output_type": "stream",
     "text": [
      "100%|██████████| 71/71 [00:25<00:00,  2.80it/s]\n"
     ]
    },
    {
     "name": "stdout",
     "output_type": "stream",
     "text": [
      "[8]                  - 51.0667108826618\n"
     ]
    },
    {
     "name": "stderr",
     "output_type": "stream",
     "text": [
      "100%|██████████| 71/71 [00:25<00:00,  2.80it/s]\n"
     ]
    },
    {
     "name": "stdout",
     "output_type": "stream",
     "text": [
      "[9]                  - 46.891062841983086\n"
     ]
    },
    {
     "name": "stderr",
     "output_type": "stream",
     "text": [
      "100%|██████████| 71/71 [00:25<00:00,  2.79it/s]"
     ]
    },
    {
     "name": "stdout",
     "output_type": "stream",
     "text": [
      "[0]                  - 32.0220527275742\n"
     ]
    },
    {
     "name": "stderr",
     "output_type": "stream",
     "text": [
      "\n"
     ]
    }
   ],
   "source": [
    "'''\n",
    "This Script analyzes a trained SpotTune model to understand the fine-tuning decisions being made\n",
    "'''\n",
    "\n",
    "import torch\n",
    "from torch.autograd import Variable\n",
    "\n",
    "import os\n",
    "import numpy as np\n",
    "import matplotlib.pyplot as plt\n",
    "import seaborn as sns\n",
    "from tqdm import tqdm\n",
    "\n",
    "# import imdbfolder as imdbfolder\n",
    "from spottune_models import *\n",
    "\n",
    "from utils import *\n",
    "from gumbel_softmax import *\n",
    "\n",
    "from visda17 import get_visda_dataloaders\n",
    "import shutil\n",
    "\n",
    "load_path = 'spottune_visda_v3_best.ckpt'\n",
    "# load_path = 'checkpoints/apricot-river-87_epoch4.ckpt'\n",
    "device = 'cuda:1'\n",
    "\n",
    "# Load the net and agent\n",
    "ckpt = torch.load(load_path, map_location=device)\n",
    "net = ckpt['net']\n",
    "agent = ckpt['agent']\n",
    "\n",
    "train_loader, val_loader, test_loader = get_visda_dataloaders(\n",
    "    train_dir='/export/r32/data/visda17/train',\n",
    "    val_dir='/export/r32/data/visda17/validation',\n",
    "    test_dir='/export/r32/data/visda17/test',\n",
    "    batch_size_test=1024\n",
    ")\n",
    "\n",
    "net.eval()\n",
    "agent.eval()\n",
    "\n",
    "policies = [\n",
    "    'adaptive',\n",
    "    [],\n",
    "    list(range(12)),\n",
    "    [4, 8, 9, 10],\n",
    "    [4, 8, 10],\n",
    "    [8, 9, 10],\n",
    "    [10],\n",
    "    [4],\n",
    "    [8],\n",
    "    [9],\n",
    "    [0]\n",
    "]\n",
    "\n",
    "for k_blocks in policies:\n",
    "    tasks_top1 = AverageMeter()\n",
    "    tasks_losses = AverageMeter() \n",
    "\n",
    "    with torch.no_grad():\n",
    "        for i, (images, labels) in enumerate(tqdm(test_loader)):\n",
    "            if torch.cuda.is_available():\n",
    "                images, labels = images.to(device=device,non_blocking=True), labels.to(device=device, non_blocking=True)\n",
    "            images, labels = Variable(images), Variable(labels)\n",
    "\n",
    "            probs = agent(images)\n",
    "            action = gumbel_softmax(probs.view(probs.size(0), -1, 2))\n",
    "            policy = action[:,:,1]\n",
    "\n",
    "            # override the policy to simulate top-k spottune variant\n",
    "            # k_blocks = [8]\n",
    "            if k_blocks == 'adaptive':\n",
    "                used_policy = policy\n",
    "            else:\n",
    "                used_policy = torch.zeros_like(policy)\n",
    "                used_policy[:, k_blocks] = 1.0\n",
    "\n",
    "            # ax = sns.heatmap(np.mean(policy.cpu().numpy(), dim=0), linewidth=0.5, cmap = sns.color_palette(\"crest_r\"))\n",
    "            # sns.set(rc = {'figure.figsize':(24,6)})\n",
    "            # # plt.yticks(np.arange(len(model_names))+0.5, [f\"{exp_name}\\n{exp_acc:.2f}%\" for exp_name, exp_acc in zip(model_names, accs)],\n",
    "            # #         rotation=0, fontsize=\"10\", va=\"center\")\n",
    "            # # plt.xticks(np.arange(on.shape[1]), model.getIndicatorLayers(), rotation=45, ha=\"right\", va='center', rotation_mode='anchor')\n",
    "            # plt.title(\"Adapted Layers\", size = 'x-large')\n",
    "            # plt.show()\n",
    "            # break\n",
    "\n",
    "            outputs = net.forward(images, used_policy)\n",
    "\n",
    "            _, predicted = torch.max(outputs.data, 1)\n",
    "            correct = predicted.eq(labels.data).cpu().sum()\n",
    "            tasks_top1.update(correct.item()*100 / (labels.size(0)+0.0), labels.size(0))\n",
    "\n",
    "            # break\n",
    "\n",
    "\n",
    "    # print(f\"Test accuracy: {tasks_top1.avg}\")\n",
    "    print(f\"{str(k_blocks).ljust(20)} - {tasks_top1.avg}\")\n",
    "    # print(f\"Test count: {tasks_top1.count}\")"
   ]
  },
  {
   "cell_type": "code",
   "execution_count": 18,
   "metadata": {},
   "outputs": [
    {
     "data": {
      "image/png": "[encoded data removed]",
      "text/plain": [
       "<Figure size 2400x600 with 2 Axes>"
      ]
     },
     "metadata": {},
     "output_type": "display_data"
    },
    {
     "name": "stdout",
     "output_type": "stream",
     "text": [
      "[[0.4888889  0.73333335 0.65555555 0.6333333  0.9222222  0.85555553\n",
      "  0.9222222  0.59444445 0.98333335 0.98333335 0.92777777 0.65      ]]\n"
     ]
    }
   ],
   "source": [
    "ax = sns.heatmap(np.mean(policy.cpu().numpy(), axis=0, keepdims=True), annot=True, fmt='.3f', linewidth=0.5, cmap = sns.color_palette(\"crest_r\"))\n",
    "sns.set(rc = {'figure.figsize':(24,6)})\n",
    "# plt.yticks(np.arange(len(model_names))+0.5, [f\"{exp_name}\\n{exp_acc:.2f}%\" for exp_name, exp_acc in zip(model_names, accs)],\n",
    "#         rotation=0, fontsize=\"10\", va=\"center\")\n",
    "# plt.xticks(np.arange(on.shape[1]), model.getIndicatorLayers(), rotation=45, ha=\"right\", va='center', rotation_mode='anchor')\n",
    "plt.title(\"Adapted Layers\", size = 'x-large')\n",
    "plt.show()\n",
    "\n",
    "\n",
    "print(np.mean(policy.cpu().numpy(), axis=0, keepdims=True))"
   ]
  },
  {
   "cell_type": "markdown",
   "metadata": {},
   "source": []
  },
  {
   "cell_type": "code",
   "execution_count": 11,
   "metadata": {},
   "outputs": [
    {
     "name": "stdout",
     "output_type": "stream",
     "text": [
      "tensor([[0., 1., 1.,  ..., 0., 0., 0.],\n",
      "        [0., 1., 1.,  ..., 0., 0., 0.],\n",
      "        [0., 1., 1.,  ..., 0., 0., 0.],\n",
      "        ...,\n",
      "        [0., 1., 1.,  ..., 0., 0., 0.],\n",
      "        [0., 1., 1.,  ..., 0., 0., 0.],\n",
      "        [0., 1., 1.,  ..., 0., 0., 0.]], device='cuda:0')\n"
     ]
    }
   ],
   "source": [
    "new_policy = torch.zeros_like(policy)\n",
    "new_policy[:,[1,2]] = 1\n",
    "\n",
    "print(new_policy)"
   ]
  },
  {
   "cell_type": "code",
   "execution_count": 15,
   "metadata": {},
   "outputs": [
    {
     "data": {
      "text/plain": [
       "2462648"
      ]
     },
     "execution_count": 15,
     "metadata": {},
     "output_type": "execute_result"
    }
   ],
   "source": [
    "\n",
    "sum([p.numel() for p in agent.parameters() if p.requires_grad])"
   ]
  }
 ],
 "metadata": {
  "kernelspec": {
   "display_name": "taps",
   "language": "python",
   "name": "python3"
  },
  "language_info": {
   "codemirror_mode": {
    "name": "ipython",
    "version": 3
   },
   "file_extension": ".py",
   "mimetype": "text/x-python",
   "name": "python",
   "nbconvert_exporter": "python",
   "pygments_lexer": "ipython3",
   "version": "3.10.9"
  },
  "orig_nbformat": 4
 },
 "nbformat": 4,
 "nbformat_minor": 2
}
